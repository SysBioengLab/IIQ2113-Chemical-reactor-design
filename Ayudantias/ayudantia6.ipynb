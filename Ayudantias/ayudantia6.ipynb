{
 "cells": [
  {
   "cell_type": "markdown",
   "id": "8f430b5e",
   "metadata": {},
   "source": [
    "# Ayudantía 6 - Reacciones Múltiples\n",
    "\n",
    "Dpto. de Ingeniería Química y Bioprocesos\n",
    "\n",
    "Diseño de Reactores - IIQ2113\n",
    "\n",
    "Ayudante: Esteban López Stephan  - esteban.lpez@uc.cl"
   ]
  },
  {
   "cell_type": "markdown",
   "id": "ba2a748a",
   "metadata": {},
   "source": [
    "Para abrir en Google Colab: [![Open In Colab](https://colab.research.google.com/assets/colab-badge.svg)](https://githubtocolab.com/SysBioengLab/IIQ2113-Chemical-reactor-design/blob/main/Ayudantias/Ayudantia6.ipynb)"
   ]
  },
  {
   "cell_type": "markdown",
   "id": "d213ad71",
   "metadata": {},
   "source": [
    "# Obtención de parametros\n",
    "### Antes de desarrollar el ejercicio en si, necesitamos todos los parametros cineticos de las reacciones que ocurren, como no nos entregan el valor de $k_1$ tendremos que conseguirlo usando los datos experimentales que nos entregan de esta reacción"
   ]
  },
  {
   "cell_type": "markdown",
   "id": "7821b532",
   "metadata": {},
   "source": [
    "## Librerias a importar"
   ]
  },
  {
   "cell_type": "code",
   "execution_count": 1,
   "id": "caad8581",
   "metadata": {},
   "outputs": [
    {
     "name": "stdout",
     "output_type": "stream",
     "text": [
      "Set parameter Username\n",
      "Academic license - for non-commercial use only - expires 2025-11-19\n",
      "Set parameter Username\n",
      "Academic license - for non-commercial use only - expires 2025-11-19\n",
      "Set parameter Username\n",
      "Academic license - for non-commercial use only - expires 2025-11-19\n",
      "Set parameter Username\n",
      "Academic license - for non-commercial use only - expires 2025-11-19\n",
      "Set parameter Username\n",
      "Academic license - for non-commercial use only - expires 2025-11-19\n",
      "Set parameter Username\n",
      "Academic license - for non-commercial use only - expires 2025-11-19\n"
     ]
    }
   ],
   "source": [
    "import numpy as np\n",
    "import matplotlib.pyplot as plt\n",
    "from scipy.stats import norm\n",
    "from scipy.optimize import least_squares\n",
    "from scipy.integrate import quad\n",
    "from thermo.unifac import UNIFAC, UFSG, UFIP\n",
    "from thermo.chemical import Chemical\n",
    "from ugropy import Groups"
   ]
  },
  {
   "cell_type": "markdown",
   "id": "4258a013",
   "metadata": {},
   "source": [
    "## Definición de funciones a utilizar\n",
    "### Para facilitar la definición del sistema de reacción que vamos a evaluar se definiran funciones a continuación"
   ]
  },
  {
   "cell_type": "markdown",
   "id": "fd850ea0",
   "metadata": {},
   "source": [
    "## Determinación de fracciones molares\n",
    "### Este código determina la fracción molar global de cada componente en el sistema, pudiendo recibir cantidades en masa (g) o en moles\n"
   ]
  },
  {
   "cell_type": "code",
   "execution_count": null,
   "id": "16b51f03",
   "metadata": {},
   "outputs": [],
   "source": [
    "##función para obtener moles basados en datos experimentales\n",
    "##La presión debe entregarse en bares y la temperatura en Kelvin\n",
    "def get_moles(components,components_initial_values,T,P):\n",
    "    components_moles=[]\n",
    "    for i in range(len(components_initial_values)):\n",
    "        if components_initial_values[i][1]=='moles':\n",
    "            components_moles.append(components_initial_values[i][0])\n",
    "        elif components_initial_values[i][1]=='mass':\n",
    "            component=Chemical(components[i],T=T,P=P*100000)\n",
    "            component_molar_mass=component.MW\n",
    "            components_moles.append(components_initial_values[i][0]/component_molar_mass)\n",
    "        else:\n",
    "            raise ValueError(\"invalid unit for component initial values. Use 'mass' or 'moles'\")\n",
    "    return components_moles"
   ]
  },
  {
   "cell_type": "code",
   "execution_count": null,
   "id": "93f8a966",
   "metadata": {},
   "outputs": [],
   "source": [
    "#Esta función determina la velocidad de reacción inicial para todos los experimentos entregados\n",
    "def initial_reaction_rate(experimental_molar_concentrations,kinetic_param):\n",
    "    #esta función devolverá una lista de velocidades iniciales de reacción para los diferentes experimentos y graficará los resultados\n",
    "    initial_rx_rates=[]\n",
    "    number_of_experiments=len(experimental_molar_concentrations)\n",
    "    for i in range(number_of_experiments):\n",
    "        K1=kinetic_param\n",
    "        initial_rate_rx_i=K1*(experimental_molar_concentrations[i][0]**0.5+experimental_molar_concentrations[i][1]**0.5)/experimental_molar_concentrations[i][0]\n",
    "        #añadimos la velocidad inicial de reacción del experimento i\n",
    "        initial_rx_rates.append(initial_rate_rx_i)\n",
    "    return initial_rx_rates"
   ]
  },
  {
   "cell_type": "code",
   "execution_count": null,
   "id": "a879979f",
   "metadata": {},
   "outputs": [],
   "source": [
    "#Esta función objetivo sera utilizada para resolver el sistema\n",
    "def objective_function(param,experimental_data,experimental_molar_concentrations):\n",
    "    #esta función devolverá la suma de las diferencias cuadradas entre las velocidades iniciales de reacción experimentales y las calculadas\n",
    "    k1=param[0]\n",
    "    calculated_initial_rx_rates=initial_reaction_rate(experimental_molar_concentrations,k1)\n",
    "    #ahora extraeremos las velocidades iniciales de reacción de la lista calculada\n",
    "    #ahora que tenemos los datos calculados, podemos calcular la suma de las diferencias cuadradas\n",
    "    residuals = [calc - exp for calc, exp in zip(calculated_initial_rx_rates, experimental_data)]    #with this we put the elements in calculated_data and experimental_data into pairs and calculate the difference between them\n",
    "    return np.array(residuals)  # least_squares minimizará la suma de los cuadrados de estos\n",
    "#ahora que definimos nuestra función objetivo, podemos usar least_squares para optimizar los parámetros del modelo"
   ]
  },
  {
   "cell_type": "code",
   "execution_count": null,
   "id": "8aee218e",
   "metadata": {},
   "outputs": [],
   "source": [
    "#Esta función esta encargada de optimizar el parametro k1\n",
    "def optimize_model_parameters(experimental_rates,experimental_mole_concentrations,initial_param):\n",
    "    \n",
    "    bounds=([0], [np.inf])   #limites para el parametro\n",
    "    result=least_squares(objective_function,initial_param, args=(experimental_rates, experimental_mole_concentrations), bounds=bounds)\n",
    "    return result.x  #parametro optimizado"
   ]
  },
  {
   "cell_type": "code",
   "execution_count": null,
   "id": "1683094c",
   "metadata": {},
   "outputs": [
    {
     "name": "stdout",
     "output_type": "stream",
     "text": [
      "[[0.0007443553882337896, 0.05288892913295083, 0.29957902402849135, 0.0, 0.39829250495733354], [0.0015719720055765041, 0.05288892913295083, 0.29957902402849135, 0.0, 0.3979327733588813], [0.01999934723196379, 0.05288892913295083, 0.29957902402849135, 0.0, 0.3898446145162608], [0.0007443553882337896, 0.10583665640835076, 0.5994910986673535, 0.0, 0.38584114995284036], [0.0015719720055765041, 0.10583665640835076, 0.5994910986673535, 0.0, 0.3854698141092768], [0.009999673615981895, 0.10583665640835076, 0.5994910986673535, 0.0, 0.38177966416386305], [0.01999934723196379, 0.10583665640835076, 0.5994910986673535, 0.0, 0.3773932595117676]]\n",
      "[34.561287914825876, 17.15196153942831, 1.8570355105379432, 47.370966214979106, 23.217561327742388, 4.253377126907723, 2.3337987245403156]\n",
      "Optimized Param:  [0.00020549]\n"
     ]
    }
   ],
   "source": [
    "##condiciones experimentales\n",
    "experiment_masses=[[[0.0447,'mass'],[1.799,'mass'],[5.397,'mass'],[0,'mass'],[34.323,'mass']],[[0.0944,'mass'],[1.799,'mass'],[5.397,'mass'],[0,'mass'],[34.292,'mass']],[[1.2010,'mass'],[1.799,'mass'],[5.397,'mass'],[0,'mass'],[33.595,'mass']],[[0.0447,'mass'],[3.6,'mass'],[10.8,'mass'],[0,'mass'],[33.250,'mass']],[[0.0944,'mass'],[3.6,'mass'],[10.8,'mass'],[0,'mass'],[33.218,'mass']],[[0.6005,'mass'],[3.6,'mass'],[10.8,'mass'],[0,'mass'],[32.900,'mass']],[[1.2010,'mass'],[3.6,'mass'],[10.8,'mass'],[0,'mass'],[32.522,'mass']]]\n",
    "experimental_initial_rx=[0.0201,0.0923,0.16237,0.05546,0.10678,0.175,0.1728]\n",
    "components_for_optimization=['acetic acid','hydrogen peroxide','water','peracetic acid','hexane']\n",
    "T=273.15\n",
    "P=1\n",
    "k1_to_optimize=[0.1]\n",
    "experiment_concentrations=[]\n",
    "for j in range(len(experiment_masses)):\n",
    "    components_initial_values_to_evaluate=experiment_masses[j]\n",
    "    experiment_moles=get_moles(components_for_optimization,components_initial_values_to_evaluate,T,P)\n",
    "    experiment_concentrations.append(experiment_moles)\n",
    "print(experiment_concentrations)\n",
    "test=initial_reaction_rate(experiment_concentrations,k1_to_optimize[0])\n",
    "print(test)\n",
    "optimized_param=optimize_model_parameters(experimental_initial_rx,experiment_concentrations,k1_to_optimize)\n",
    "print(\"Optimized Param: \",optimized_param)"
   ]
  },
  {
   "cell_type": "markdown",
   "id": "514fc27c",
   "metadata": {},
   "source": [
    "## Solución del problema\n",
    "### Ahora que tenemos el parámetro k1, contamos con todo lo necesario para resolver el sistema PFR\n",
    "### Tenemos la siguiente definición de $-r_a$\n",
    "$$\n",
    "-r_a=r_1+r_2+r_3=\\frac{k_1(C_A^{0.5}+C_B^{0.5})}{C_A}+\\frac{k_2C_B^{1.5}}{C_A}+k_3(C_A^{0.3}+C_B^{0.3})\n",
    "$$\n",
    "### Donde debemos recordar que $C_B$ puede representarse mediante la siguiente ecuación\n",
    "$$\n",
    "C_B=\\sqrt{C_A^2+2}\n",
    "$$\n",
    "### Ahora procedemos a obtener el volumen del sistema usando la siguiente ecuación\n",
    "$$\n",
    "\\frac{C_{Ao}V}{F_{Ao}}=-\\int_{C_{Ao}}^{C_{Af}} \\frac{1}{-r_A} \\, dc_A\n",
    "$$\n",
    "### Y el rendimiento global del sistema con una fórmula casi idéntica:\n",
    "$$\n",
    "\\frac{1}{-(C_{Af}-C_{Ao})} \\int_{C_{Ao}}^{C_{Af}} \\frac{r_P}{-r_A} \\, dc_A\n",
    "$$"
   ]
  },
  {
   "cell_type": "code",
   "execution_count": null,
   "id": "2fae7afb",
   "metadata": {},
   "outputs": [
    {
     "name": "stdout",
     "output_type": "stream",
     "text": [
      "-8205.169553160353\n",
      "Pfr volume:  4102.584776580176 L\n"
     ]
    }
   ],
   "source": [
    "##Asignación de los parametros\n",
    "CAo=10\n",
    "CAf=0.1\n",
    "FAo=5\n",
    "k1=0.00020549\n",
    "k2=0.000016\n",
    "k3=0.00029\n",
    "##Volumen\n",
    "def CB(CA):\n",
    "    return np.sqrt(CA**2+2)\n",
    "def rA(CA):\n",
    "    CB_to_use=CB(CA)\n",
    "    r1 = k1 * (CA**0.5 + CB_to_use**0.5) / CA\n",
    "    r2 = k2 * (CB_to_use**1.5) / CA\n",
    "    r3 = k3 * (CA**0.3 + CB_to_use**0.3)\n",
    "    return (r1+r2+r3)\n",
    "def value_to_integrate(CA):\n",
    "    return 1/rA(CA)\n",
    "answer=quad(value_to_integrate,CAo,CAf)\n",
    "print(answer[0])\n",
    "V=answer[0]*(-1)*FAo/CAo\n",
    "print('Pfr volume: ', V, 'L')\n",
    "\n"
   ]
  },
  {
   "cell_type": "code",
   "execution_count": null,
   "id": "c893a3d7",
   "metadata": {},
   "outputs": [
    {
     "name": "stdout",
     "output_type": "stream",
     "text": [
      "Global yield:  0.21043331409763252\n"
     ]
    }
   ],
   "source": [
    "##Rendimiento global\n",
    "def instant_yield(CA):\n",
    "    CB_to_use=CB(CA)\n",
    "    r1 = k1 * (CA**0.5 + CB_to_use**0.5) / CA\n",
    "    r2 = k2 * (CB_to_use**1.5) / CA\n",
    "    r3 = k3 * (CA**0.3 + CB_to_use**0.3)\n",
    "    return r1/(r1+r2+r3)\n",
    "answ=quad(instant_yield,CAf,CAo) \n",
    "global_yield=answ[0]/(CAo-CAf)\n",
    "print('Global yield: ',global_yield)"
   ]
  }
 ],
 "metadata": {
  "kernelspec": {
   "display_name": "Python 3",
   "language": "python",
   "name": "python3"
  },
  "language_info": {
   "codemirror_mode": {
    "name": "ipython",
    "version": 3
   },
   "file_extension": ".py",
   "mimetype": "text/x-python",
   "name": "python",
   "nbconvert_exporter": "python",
   "pygments_lexer": "ipython3",
   "version": "3.11.4"
  }
 },
 "nbformat": 4,
 "nbformat_minor": 5
}
